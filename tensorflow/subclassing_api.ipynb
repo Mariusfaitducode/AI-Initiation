{
 "cells": [
  {
   "cell_type": "code",
   "execution_count": 1,
   "metadata": {},
   "outputs": [
    {
     "name": "stdout",
     "output_type": "stream",
     "text": [
      "WARNING:tensorflow:From c:\\Marius\\Project\\IA\\.venv\\Lib\\site-packages\\keras\\src\\losses.py:2976: The name tf.losses.sparse_softmax_cross_entropy is deprecated. Please use tf.compat.v1.losses.sparse_softmax_cross_entropy instead.\n",
      "\n"
     ]
    }
   ],
   "source": [
    "# Matplotlib\n",
    "import matplotlib.pyplot as plt\n",
    "# Tensorflow\n",
    "import tensorflow as tf\n",
    "\n",
    "# from tensorflow import keras as keras\n",
    "\n",
    "# import pytorch as torch\n",
    "# Numpy and Pandas\n",
    "import numpy as np\n",
    "import pandas as pd\n",
    "# Ohter import\n",
    "import sys"
   ]
  },
  {
   "cell_type": "code",
   "execution_count": 4,
   "metadata": {},
   "outputs": [],
   "source": [
    "assert hasattr(tf, \"function\")  # Be sure to use tensorflow 2.0"
   ]
  },
  {
   "cell_type": "markdown",
   "metadata": {},
   "source": [
    "## Create cutomized layers"
   ]
  },
  {
   "cell_type": "code",
   "execution_count": 49,
   "metadata": {},
   "outputs": [
    {
     "name": "stdout",
     "output_type": "stream",
     "text": [
      "Add layers\n",
      "Make a prediction\n",
      "i 0\n",
      "unit 4\n",
      "input_shape (None, 4)\n",
      "i 1\n",
      "unit 2\n",
      "input_shape (None, 4)\n",
      "1/1 [==============================] - 0s 198ms/step\n"
     ]
    },
    {
     "data": {
      "text/plain": [
       "array([[0.5, 0.5]], dtype=float32)"
      ]
     },
     "execution_count": 49,
     "metadata": {},
     "output_type": "execute_result"
    }
   ],
   "source": [
    "# Not useful in code but it is useful to understand the concept\n",
    "\n",
    "class CustomLayers(tf.keras.layers.Layer):\n",
    "\n",
    "    def __init__(self, units, activations):\n",
    "        super(CustomLayers, self).__init__()\n",
    "        self.units = units\n",
    "        self.activations_list = activations\n",
    "        # self.num_outputs = num_outputs\n",
    "        self.weights_list = []\n",
    "\n",
    "    # The build function gets called the first time your layer is used. \n",
    "    # Creating variables on build() allows you to make their shape depend on the input shape and hence removes the need for the user to specify full shapes. \n",
    "    # It is possible to create variables during __init__() if you already know their full shapes.\n",
    "    def build(self, input_shape):\n",
    "\n",
    "        # print('input_shape', input_shape)\n",
    "\n",
    "        # enumerate each layer\n",
    "        # i == the index of the layers\n",
    "        # unit == the number of neurons in the layer\n",
    "        for i, unit in enumerate(self.units):\n",
    "            print('i', i)\n",
    "            print('unit', unit)\n",
    "            print('input_shape', input_shape)\n",
    "            # self.add_weight(name='kernel'+str(i), shape=[int(input_shape[-1]), unit])\n",
    "            # input_shape = unit\n",
    "\n",
    "            weights = self.add_weight(\n",
    "                name='weights'+str(i), \n",
    "                shape=[int(input_shape[1]), unit],\n",
    "                initializer='uniform', # random_uniform # random_normal\n",
    "                trainable=True)\n",
    "            \n",
    "            self.weights_list.append(weights)\n",
    "\n",
    "            input_shape = (None, unit)\n",
    "\n",
    "        super(CustomLayers, self).build(input_shape)\n",
    "\n",
    "        # self.kernel = self.add_variable(\"kernel\", shape=[int(input_shape[-1]), self.num_outputs])\n",
    "\n",
    "    def call(self, input):\n",
    "\n",
    "        # print('Call function')\n",
    "\n",
    "        # Computations of the forward propagation\n",
    "        for weights, activation in zip(self.weights_list, self.activations_list):\n",
    "            # print('weights', weights)\n",
    "            # print('activation', activation)\n",
    "\n",
    "            # dot product\n",
    "            input = tf.matmul(input, weights) # + bias \n",
    "\n",
    "            # activation\n",
    "            if activation == \"relu\":\n",
    "                input = tf.nn.relu(input)\n",
    "            elif activation == \"softmax\":\n",
    "                input = tf.nn.softmax(input)\n",
    "            elif activation == \"sigmoid\":\n",
    "                input = tf.nn.sigmoid(input)\n",
    "\n",
    "        return input\n",
    "\n",
    "\n",
    "model = tf.keras.Sequential()\n",
    "\n",
    "print(\"Add layers\")\n",
    "model.add(tf.keras.layers.Dense(4))\n",
    "model.add(CustomLayers([4, 2], [\"relu\", \"softmax\"]))\n",
    "\n",
    "print(\"Make a prediction\")\n",
    "model.predict(np.zeros([1, 6]))\n",
    "# model.predict(np.zeros([1, 10]))"
   ]
  },
  {
   "cell_type": "markdown",
   "metadata": {},
   "source": [
    "## Create a model using the SubClassing API"
   ]
  },
  {
   "cell_type": "code",
   "execution_count": 24,
   "metadata": {},
   "outputs": [],
   "source": [
    "class CustomModel(tf.keras.Model):\n",
    "\n",
    "    def __init__(self):\n",
    "        super(CustomModel, self).__init__()\n",
    "\n",
    "        # self.dense1 = tf.keras.layers.Dense(4, activation=tf.nn.relu)\n",
    "        # self.dense2 = tf.keras.layers.Dense(5, activation=tf.nn.softmax)\n",
    "\n",
    "        self.first_layer = tf.keras.layers.Dense(64, activation=tf.nn.relu, input_shape=(784,))\n",
    "        self.output_layer = tf.keras.layers.Dense(10, activation=tf.nn.softmax)\n",
    "\n",
    "    def call(self, inputs):\n",
    "\n",
    "        # In the call method, you can do tf. operations on TensorFlow tensors.\n",
    "\n",
    "        layer_1 = self.first_layer(inputs)\n",
    "        output = self.output_layer(layer_1)\n",
    "        return output\n",
    "    \n",
    "\n",
    "try:\n",
    "    model = CustomModel()\n",
    "except Exception as e:\n",
    "    print(\"Error : \", e)\n",
    "    sys.exit(1)"
   ]
  },
  {
   "cell_type": "code",
   "execution_count": 25,
   "metadata": {},
   "outputs": [
    {
     "name": "stdout",
     "output_type": "stream",
     "text": [
      "WARNING:tensorflow:6 out of the last 6 calls to <function Model.make_predict_function.<locals>.predict_function at 0x0000025C9E841EE0> triggered tf.function retracing. Tracing is expensive and the excessive number of tracings could be due to (1) creating @tf.function repeatedly in a loop, (2) passing tensors with different shapes, (3) passing Python objects instead of tensors. For (1), please define your @tf.function outside of the loop. For (2), @tf.function has reduce_retracing=True option that can avoid unnecessary retracing. For (3), please refer to https://www.tensorflow.org/guide/function#controlling_retracing and https://www.tensorflow.org/api_docs/python/tf/function for  more details.\n",
      "1/1 [==============================] - 0s 162ms/step\n"
     ]
    },
    {
     "data": {
      "text/plain": [
       "array([[0.1, 0.1, 0.1, 0.1, 0.1, 0.1, 0.1, 0.1, 0.1, 0.1]], dtype=float32)"
      ]
     },
     "execution_count": 25,
     "metadata": {},
     "output_type": "execute_result"
    }
   ],
   "source": [
    "model.predict(np.zeros((1, 784)))"
   ]
  },
  {
   "cell_type": "code",
   "execution_count": 26,
   "metadata": {},
   "outputs": [],
   "source": [
    "model.compile(\n",
    "    loss=tf.keras.losses.sparse_categorical_crossentropy,\n",
    "    optimizer=tf.keras.optimizers.Adam(0.001),\n",
    "    metrics=[\"accuracy\"])"
   ]
  },
  {
   "cell_type": "markdown",
   "metadata": {},
   "source": [
    "## Mnist problem"
   ]
  },
  {
   "cell_type": "code",
   "execution_count": 27,
   "metadata": {},
   "outputs": [
    {
     "name": "stdout",
     "output_type": "stream",
     "text": [
      "images.shape :  (10000, 784)\n",
      "targets.shape :  (10000,)\n"
     ]
    }
   ],
   "source": [
    "# Dataset\n",
    "\n",
    "from sklearn.preprocessing import StandardScaler\n",
    "# Fashio MNIST\n",
    "fashion_mnist = tf.keras.datasets.fashion_mnist\n",
    "(images, targets), (_, _) = fashion_mnist.load_data()\n",
    "# Get only a subpart of the dataset\n",
    "images = images[:10000]\n",
    "targets = targets [:10000]\n",
    "# Reshape the dataset and convert to float\n",
    "images = images.reshape(-1, 784)\n",
    "images = images.astype(float)\n",
    "# Normalize images\n",
    "scaler = StandardScaler()\n",
    "images = scaler.fit_transform(images)\n",
    "\n",
    "print(\"images.shape : \", images.shape)\n",
    "print(\"targets.shape : \", targets.shape)\n",
    "\n"
   ]
  },
  {
   "cell_type": "code",
   "execution_count": 28,
   "metadata": {},
   "outputs": [
    {
     "name": "stdout",
     "output_type": "stream",
     "text": [
      "1/1 [==============================] - 0s 115ms/step\n"
     ]
    },
    {
     "data": {
      "text/plain": [
       "array([[0.343528  , 0.00743907, 0.01926639, 0.17100503, 0.03084405,\n",
       "        0.02232789, 0.02764364, 0.07821842, 0.18341577, 0.1163118 ]],\n",
       "      dtype=float32)"
      ]
     },
     "execution_count": 28,
     "metadata": {},
     "output_type": "execute_result"
    }
   ],
   "source": [
    "model.predict(images[0:1])"
   ]
  },
  {
   "cell_type": "code",
   "execution_count": 29,
   "metadata": {},
   "outputs": [
    {
     "name": "stdout",
     "output_type": "stream",
     "text": [
      "Epoch 1/10\n",
      "WARNING:tensorflow:From c:\\Marius\\Project\\IA\\.venv\\Lib\\site-packages\\keras\\src\\utils\\tf_utils.py:492: The name tf.ragged.RaggedTensorValue is deprecated. Please use tf.compat.v1.ragged.RaggedTensorValue instead.\n",
      "\n",
      "WARNING:tensorflow:From c:\\Marius\\Project\\IA\\.venv\\Lib\\site-packages\\keras\\src\\engine\\base_layer_utils.py:384: The name tf.executing_eagerly_outside_functions is deprecated. Please use tf.compat.v1.executing_eagerly_outside_functions instead.\n",
      "\n",
      "250/250 [==============================] - 2s 5ms/step - loss: 0.6478 - accuracy: 0.7731 - val_loss: 0.4657 - val_accuracy: 0.8335\n",
      "Epoch 2/10\n",
      "250/250 [==============================] - 1s 6ms/step - loss: 0.4131 - accuracy: 0.8497 - val_loss: 0.4611 - val_accuracy: 0.8435\n",
      "Epoch 3/10\n",
      "250/250 [==============================] - 2s 9ms/step - loss: 0.3386 - accuracy: 0.8781 - val_loss: 0.4387 - val_accuracy: 0.8420\n",
      "Epoch 4/10\n",
      "250/250 [==============================] - 3s 14ms/step - loss: 0.3048 - accuracy: 0.8892 - val_loss: 0.4643 - val_accuracy: 0.8375\n",
      "Epoch 5/10\n",
      "250/250 [==============================] - 2s 6ms/step - loss: 0.2656 - accuracy: 0.9051 - val_loss: 0.4143 - val_accuracy: 0.8545\n",
      "Epoch 6/10\n",
      "250/250 [==============================] - 3s 12ms/step - loss: 0.2324 - accuracy: 0.9165 - val_loss: 0.4631 - val_accuracy: 0.8500\n",
      "Epoch 7/10\n",
      "250/250 [==============================] - 1s 5ms/step - loss: 0.2083 - accuracy: 0.9255 - val_loss: 0.4524 - val_accuracy: 0.8425\n",
      "Epoch 8/10\n",
      "250/250 [==============================] - 1s 5ms/step - loss: 0.1875 - accuracy: 0.9331 - val_loss: 0.4507 - val_accuracy: 0.8565\n",
      "Epoch 9/10\n",
      "250/250 [==============================] - 1s 5ms/step - loss: 0.1655 - accuracy: 0.9413 - val_loss: 0.4635 - val_accuracy: 0.8525\n",
      "Epoch 10/10\n",
      "250/250 [==============================] - 1s 5ms/step - loss: 0.1553 - accuracy: 0.9454 - val_loss: 0.4611 - val_accuracy: 0.8625\n"
     ]
    }
   ],
   "source": [
    "history = model.fit(images, targets, epochs=10, validation_split=0.2)"
   ]
  }
 ],
 "metadata": {
  "kernelspec": {
   "display_name": ".venv",
   "language": "python",
   "name": "python3"
  },
  "language_info": {
   "codemirror_mode": {
    "name": "ipython",
    "version": 3
   },
   "file_extension": ".py",
   "mimetype": "text/x-python",
   "name": "python",
   "nbconvert_exporter": "python",
   "pygments_lexer": "ipython3",
   "version": "3.11.7"
  }
 },
 "nbformat": 4,
 "nbformat_minor": 2
}
