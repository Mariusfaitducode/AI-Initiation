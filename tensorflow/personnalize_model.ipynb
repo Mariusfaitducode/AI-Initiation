{
 "cells": [
  {
   "cell_type": "code",
   "execution_count": 1,
   "metadata": {},
   "outputs": [
    {
     "name": "stdout",
     "output_type": "stream",
     "text": [
      "WARNING:tensorflow:From c:\\Marius\\Project\\IA\\.venv\\Lib\\site-packages\\keras\\src\\losses.py:2976: The name tf.losses.sparse_softmax_cross_entropy is deprecated. Please use tf.compat.v1.losses.sparse_softmax_cross_entropy instead.\n",
      "\n"
     ]
    }
   ],
   "source": [
    "# Matplotlib\n",
    "import matplotlib.pyplot as plt\n",
    "# Tensorflow\n",
    "import tensorflow as tf\n",
    "\n",
    "# from tensorflow import keras as keras\n",
    "\n",
    "# import pytorch as torch\n",
    "# Numpy and Pandas\n",
    "import numpy as np\n",
    "import pandas as pd\n",
    "# Ohter import\n",
    "import sys"
   ]
  },
  {
   "cell_type": "code",
   "execution_count": 6,
   "metadata": {},
   "outputs": [],
   "source": [
    "assert hasattr(tf, \"function\")  # Be sure to use tensorflow 2.0"
   ]
  },
  {
   "cell_type": "markdown",
   "metadata": {},
   "source": [
    "Simple model"
   ]
  },
  {
   "cell_type": "code",
   "execution_count": 7,
   "metadata": {},
   "outputs": [
    {
     "name": "stdout",
     "output_type": "stream",
     "text": [
      "WARNING:tensorflow:From c:\\Marius\\Project\\IA\\.venv\\Lib\\site-packages\\keras\\src\\backend.py:873: The name tf.get_default_graph is deprecated. Please use tf.compat.v1.get_default_graph instead.\n",
      "\n"
     ]
    }
   ],
   "source": [
    "\n",
    "model = tf.keras.models.Sequential()\n",
    "\n",
    "model.add(tf.keras.layers.Dense(256, activation='relu'))\n",
    "model.add(tf.keras.layers.Dense(128, activation='relu'))\n",
    "model.add(tf.keras.layers.Dense(2, activation='softmax'))\n"
   ]
  },
  {
   "cell_type": "markdown",
   "metadata": {},
   "source": [
    "Setup optimizer, loss function and one metrics"
   ]
  },
  {
   "cell_type": "code",
   "execution_count": 8,
   "metadata": {},
   "outputs": [],
   "source": [
    "# loss function\n",
    "loss_object = tf.keras.losses.SparseCategoricalCrossentropy()\n",
    "\n",
    "# optimizer\n",
    "optimizer = tf.keras.optimizers.Adam()\n",
    "\n",
    "# metrics, track evolution of loss\n",
    "train_loss = tf.keras.metrics.Mean(name='train_loss')"
   ]
  },
  {
   "cell_type": "markdown",
   "metadata": {},
   "source": [
    "Method using AutoGraph to train the model"
   ]
  },
  {
   "cell_type": "code",
   "execution_count": 34,
   "metadata": {},
   "outputs": [],
   "source": [
    "@tf.function  # Make it fast. tf.function : Compiles a function into a callable TensorFlow graph.\n",
    "def train_step(X, y):\n",
    "\n",
    "    with tf.GradientTape() as tape:\n",
    "\n",
    "        predictions = model(X)\n",
    "\n",
    "        loss = loss_object(y, predictions)\n",
    "        # print('loss : ',loss)\n",
    "\n",
    "    gradients = tape.gradient(loss, model.trainable_variables)\n",
    "    # print('gradients : ',gradients)\n",
    "    # for grad in gradients:\n",
    "    #     print(grad.shape)\n",
    "\n",
    "    optimizer.apply_gradients(zip(gradients, model.trainable_variables))\n",
    "\n",
    "    train_loss(loss)"
   ]
  },
  {
   "cell_type": "markdown",
   "metadata": {},
   "source": [
    "Train the model"
   ]
  },
  {
   "cell_type": "code",
   "execution_count": 36,
   "metadata": {},
   "outputs": [
    {
     "name": "stdout",
     "output_type": "stream",
     "text": [
      "Loss :  tf.Tensor(1.7881392e-07, shape=(), dtype=float32)\n",
      "Loss :  tf.Tensor(1.7881392e-07, shape=(), dtype=float32)\n",
      "Loss :  tf.Tensor(1.7881392e-07, shape=(), dtype=float32)\n",
      "Loss :  tf.Tensor(1.7881392e-07, shape=(), dtype=float32)\n",
      "Loss :  tf.Tensor(1.7881392e-07, shape=(), dtype=float32)\n",
      "Loss :  tf.Tensor(1.7881392e-07, shape=(), dtype=float32)\n",
      "Loss :  tf.Tensor(1.7881392e-07, shape=(), dtype=float32)\n",
      "Loss :  tf.Tensor(1.7881392e-07, shape=(), dtype=float32)\n",
      "Loss :  tf.Tensor(1.7881392e-07, shape=(), dtype=float32)\n",
      "Loss :  tf.Tensor(1.7881392e-07, shape=(), dtype=float32)\n"
     ]
    }
   ],
   "source": [
    "\n",
    "for epoch in range(0, 10):\n",
    "    for _ in range(0, 10):\n",
    "\n",
    "        # Create fake data for X and y\n",
    "        X = np.zeros((2, 30))\n",
    "        X[0] -= 1\n",
    "        X[1] = 1\n",
    "\n",
    "        y = np.zeros((2, 1))\n",
    "        y[0] = 0\n",
    "        y[1] = 1\n",
    "\n",
    "        # Train the model\n",
    "        train_step(X, y)\n",
    "\n",
    "    print('Loss : ', train_loss.result())\n",
    "    train_loss.reset_states()\n",
    "        "
   ]
  },
  {
   "cell_type": "code",
   "execution_count": 42,
   "metadata": {},
   "outputs": [
    {
     "name": "stdout",
     "output_type": "stream",
     "text": [
      "1/1 [==============================] - 0s 55ms/step\n"
     ]
    },
    {
     "data": {
      "text/plain": [
       "array([[6.953604e-08, 9.999999e-01]], dtype=float32)"
      ]
     },
     "execution_count": 42,
     "metadata": {},
     "output_type": "execute_result"
    }
   ],
   "source": [
    "\n",
    "input = np.zeros((1, 30)) + 1\n",
    "model.predict(input)\n"
   ]
  }
 ],
 "metadata": {
  "kernelspec": {
   "display_name": ".venv",
   "language": "python",
   "name": "python3"
  },
  "language_info": {
   "codemirror_mode": {
    "name": "ipython",
    "version": 3
   },
   "file_extension": ".py",
   "mimetype": "text/x-python",
   "name": "python",
   "nbconvert_exporter": "python",
   "pygments_lexer": "ipython3",
   "version": "3.11.7"
  }
 },
 "nbformat": 4,
 "nbformat_minor": 2
}
